{
 "cells": [
  {
   "cell_type": "code",
   "execution_count": 13,
   "metadata": {},
   "outputs": [],
   "source": [
    "import yfinance as yf\n",
    "AGG = yf.Ticker('AGG')\n",
    "SPY = yf.Ticker('SPY')\n",
    "AGGS = AGG.history(period='max').copy()\n",
    "AGGS.index = AGG.history(period='max').index.strftime('%Y-%m-%d')\n",
    "AGGS['Adj Close'] = AGGS['Close']\n",
    "AGGS.to_csv('AGG.csv')\n",
    "SPYS = SPY.history(period='max').copy()\n",
    "SPYS.index = SPYS.index.strftime('%Y-%m-%d')\n",
    "SPYS['Adj Close'] = SPYS['Close']\n",
    "SPYS.to_csv('SPY.csv')"
   ]
  },
  {
   "cell_type": "code",
   "execution_count": 12,
   "metadata": {},
   "outputs": [
    {
     "data": {
      "text/plain": [
       "Date\n",
       "1993-01-29 00:00:00-05:00     25.218233\n",
       "1993-02-01 00:00:00-05:00     25.397585\n",
       "1993-02-02 00:00:00-05:00     25.451393\n",
       "1993-02-03 00:00:00-05:00     25.720427\n",
       "1993-02-04 00:00:00-05:00     25.828049\n",
       "                                ...    \n",
       "2023-01-10 00:00:00-05:00    390.579987\n",
       "2023-01-11 00:00:00-05:00    395.519989\n",
       "2023-01-12 00:00:00-05:00    396.959991\n",
       "2023-01-13 00:00:00-05:00    398.500000\n",
       "2023-01-17 00:00:00-05:00    397.769989\n",
       "Name: Close, Length: 7546, dtype: float64"
      ]
     },
     "execution_count": 12,
     "metadata": {},
     "output_type": "execute_result"
    }
   ],
   "source": [
    "SPYS['Close']"
   ]
  },
  {
   "cell_type": "code",
   "execution_count": null,
   "metadata": {},
   "outputs": [],
   "source": [
    "AGGS.to_csv('AGG.csv')"
   ]
  },
  {
   "cell_type": "code",
   "execution_count": 5,
   "metadata": {},
   "outputs": [],
   "source": [
    "AGGS = AGG.history(period='max',auto_adjust=True).copy()\n"
   ]
  },
  {
   "cell_type": "code",
   "execution_count": 6,
   "metadata": {},
   "outputs": [
    {
     "data": {
      "text/html": [
       "<div>\n",
       "<style scoped>\n",
       "    .dataframe tbody tr th:only-of-type {\n",
       "        vertical-align: middle;\n",
       "    }\n",
       "\n",
       "    .dataframe tbody tr th {\n",
       "        vertical-align: top;\n",
       "    }\n",
       "\n",
       "    .dataframe thead th {\n",
       "        text-align: right;\n",
       "    }\n",
       "</style>\n",
       "<table border=\"1\" class=\"dataframe\">\n",
       "  <thead>\n",
       "    <tr style=\"text-align: right;\">\n",
       "      <th></th>\n",
       "      <th>Open</th>\n",
       "      <th>High</th>\n",
       "      <th>Low</th>\n",
       "      <th>Close</th>\n",
       "      <th>Volume</th>\n",
       "      <th>Dividends</th>\n",
       "      <th>Stock Splits</th>\n",
       "      <th>Capital Gains</th>\n",
       "    </tr>\n",
       "    <tr>\n",
       "      <th>Date</th>\n",
       "      <th></th>\n",
       "      <th></th>\n",
       "      <th></th>\n",
       "      <th></th>\n",
       "      <th></th>\n",
       "      <th></th>\n",
       "      <th></th>\n",
       "      <th></th>\n",
       "    </tr>\n",
       "  </thead>\n",
       "  <tbody>\n",
       "    <tr>\n",
       "      <th>2003-09-29 00:00:00-04:00</th>\n",
       "      <td>56.043718</td>\n",
       "      <td>56.049199</td>\n",
       "      <td>55.939618</td>\n",
       "      <td>55.977970</td>\n",
       "      <td>13600</td>\n",
       "      <td>0.0</td>\n",
       "      <td>0.0</td>\n",
       "      <td>0.0</td>\n",
       "    </tr>\n",
       "    <tr>\n",
       "      <th>2003-09-30 00:00:00-04:00</th>\n",
       "      <td>56.049192</td>\n",
       "      <td>56.290261</td>\n",
       "      <td>56.043712</td>\n",
       "      <td>56.268345</td>\n",
       "      <td>62600</td>\n",
       "      <td>0.0</td>\n",
       "      <td>0.0</td>\n",
       "      <td>0.0</td>\n",
       "    </tr>\n",
       "    <tr>\n",
       "      <th>2003-10-01 00:00:00-04:00</th>\n",
       "      <td>56.235498</td>\n",
       "      <td>56.295766</td>\n",
       "      <td>56.213582</td>\n",
       "      <td>56.240978</td>\n",
       "      <td>66300</td>\n",
       "      <td>0.0</td>\n",
       "      <td>0.0</td>\n",
       "      <td>0.0</td>\n",
       "    </tr>\n",
       "    <tr>\n",
       "      <th>2003-10-02 00:00:00-04:00</th>\n",
       "      <td>55.994431</td>\n",
       "      <td>56.240985</td>\n",
       "      <td>55.890335</td>\n",
       "      <td>56.153320</td>\n",
       "      <td>68900</td>\n",
       "      <td>0.0</td>\n",
       "      <td>0.0</td>\n",
       "      <td>0.0</td>\n",
       "    </tr>\n",
       "    <tr>\n",
       "      <th>2003-10-03 00:00:00-04:00</th>\n",
       "      <td>55.912236</td>\n",
       "      <td>55.912236</td>\n",
       "      <td>55.720471</td>\n",
       "      <td>55.747868</td>\n",
       "      <td>64500</td>\n",
       "      <td>0.0</td>\n",
       "      <td>0.0</td>\n",
       "      <td>0.0</td>\n",
       "    </tr>\n",
       "    <tr>\n",
       "      <th>...</th>\n",
       "      <td>...</td>\n",
       "      <td>...</td>\n",
       "      <td>...</td>\n",
       "      <td>...</td>\n",
       "      <td>...</td>\n",
       "      <td>...</td>\n",
       "      <td>...</td>\n",
       "      <td>...</td>\n",
       "    </tr>\n",
       "    <tr>\n",
       "      <th>2023-01-11 00:00:00-05:00</th>\n",
       "      <td>99.279999</td>\n",
       "      <td>99.570000</td>\n",
       "      <td>99.260002</td>\n",
       "      <td>99.570000</td>\n",
       "      <td>6102900</td>\n",
       "      <td>0.0</td>\n",
       "      <td>0.0</td>\n",
       "      <td>0.0</td>\n",
       "    </tr>\n",
       "    <tr>\n",
       "      <th>2023-01-12 00:00:00-05:00</th>\n",
       "      <td>99.839996</td>\n",
       "      <td>100.529999</td>\n",
       "      <td>99.489998</td>\n",
       "      <td>100.290001</td>\n",
       "      <td>8342700</td>\n",
       "      <td>0.0</td>\n",
       "      <td>0.0</td>\n",
       "      <td>0.0</td>\n",
       "    </tr>\n",
       "    <tr>\n",
       "      <th>2023-01-13 00:00:00-05:00</th>\n",
       "      <td>100.019997</td>\n",
       "      <td>100.260002</td>\n",
       "      <td>99.830002</td>\n",
       "      <td>99.919998</td>\n",
       "      <td>6718500</td>\n",
       "      <td>0.0</td>\n",
       "      <td>0.0</td>\n",
       "      <td>0.0</td>\n",
       "    </tr>\n",
       "    <tr>\n",
       "      <th>2023-01-17 00:00:00-05:00</th>\n",
       "      <td>99.739998</td>\n",
       "      <td>99.959999</td>\n",
       "      <td>99.650002</td>\n",
       "      <td>99.739998</td>\n",
       "      <td>8174700</td>\n",
       "      <td>0.0</td>\n",
       "      <td>0.0</td>\n",
       "      <td>0.0</td>\n",
       "    </tr>\n",
       "    <tr>\n",
       "      <th>2023-01-18 00:00:00-05:00</th>\n",
       "      <td>100.760002</td>\n",
       "      <td>100.870003</td>\n",
       "      <td>100.370003</td>\n",
       "      <td>100.495003</td>\n",
       "      <td>3257645</td>\n",
       "      <td>0.0</td>\n",
       "      <td>0.0</td>\n",
       "      <td>0.0</td>\n",
       "    </tr>\n",
       "  </tbody>\n",
       "</table>\n",
       "<p>4860 rows × 8 columns</p>\n",
       "</div>"
      ],
      "text/plain": [
       "                                 Open        High         Low       Close  \\\n",
       "Date                                                                        \n",
       "2003-09-29 00:00:00-04:00   56.043718   56.049199   55.939618   55.977970   \n",
       "2003-09-30 00:00:00-04:00   56.049192   56.290261   56.043712   56.268345   \n",
       "2003-10-01 00:00:00-04:00   56.235498   56.295766   56.213582   56.240978   \n",
       "2003-10-02 00:00:00-04:00   55.994431   56.240985   55.890335   56.153320   \n",
       "2003-10-03 00:00:00-04:00   55.912236   55.912236   55.720471   55.747868   \n",
       "...                               ...         ...         ...         ...   \n",
       "2023-01-11 00:00:00-05:00   99.279999   99.570000   99.260002   99.570000   \n",
       "2023-01-12 00:00:00-05:00   99.839996  100.529999   99.489998  100.290001   \n",
       "2023-01-13 00:00:00-05:00  100.019997  100.260002   99.830002   99.919998   \n",
       "2023-01-17 00:00:00-05:00   99.739998   99.959999   99.650002   99.739998   \n",
       "2023-01-18 00:00:00-05:00  100.760002  100.870003  100.370003  100.495003   \n",
       "\n",
       "                            Volume  Dividends  Stock Splits  Capital Gains  \n",
       "Date                                                                        \n",
       "2003-09-29 00:00:00-04:00    13600        0.0           0.0            0.0  \n",
       "2003-09-30 00:00:00-04:00    62600        0.0           0.0            0.0  \n",
       "2003-10-01 00:00:00-04:00    66300        0.0           0.0            0.0  \n",
       "2003-10-02 00:00:00-04:00    68900        0.0           0.0            0.0  \n",
       "2003-10-03 00:00:00-04:00    64500        0.0           0.0            0.0  \n",
       "...                            ...        ...           ...            ...  \n",
       "2023-01-11 00:00:00-05:00  6102900        0.0           0.0            0.0  \n",
       "2023-01-12 00:00:00-05:00  8342700        0.0           0.0            0.0  \n",
       "2023-01-13 00:00:00-05:00  6718500        0.0           0.0            0.0  \n",
       "2023-01-17 00:00:00-05:00  8174700        0.0           0.0            0.0  \n",
       "2023-01-18 00:00:00-05:00  3257645        0.0           0.0            0.0  \n",
       "\n",
       "[4860 rows x 8 columns]"
      ]
     },
     "execution_count": 6,
     "metadata": {},
     "output_type": "execute_result"
    }
   ],
   "source": [
    "AGGS"
   ]
  },
  {
   "cell_type": "code",
   "execution_count": 31,
   "metadata": {},
   "outputs": [],
   "source": [
    "# Encapsulation\n",
    "import yfinance as yf\n",
    "def get_ticker(ticker):\n",
    "    x = yf.Ticker(ticker)\n",
    "    rlt = x.history(period='max').copy()\n",
    "    rlt.index = x.history(period='max').index.strftime('%Y-%m-%d')\n",
    "    if 'Adj Close' not in rlt.columns:\n",
    "        rlt['Adj Close'] = rlt['Close']\n",
    "    return rlt"
   ]
  },
  {
   "cell_type": "code",
   "execution_count": 32,
   "metadata": {},
   "outputs": [],
   "source": [
    "symbol_list = ['XLB', 'XLC', 'XLE', 'XLF', 'XLI', 'XLK', 'XLP', 'XLU', 'XLV', 'XLY']"
   ]
  },
  {
   "cell_type": "code",
   "execution_count": 33,
   "metadata": {},
   "outputs": [],
   "source": [
    "for s in symbol_list:\n",
    "    get_ticker(s).to_csv(f'./datasource/{s}.csv')"
   ]
  },
  {
   "cell_type": "code",
   "execution_count": null,
   "metadata": {},
   "outputs": [],
   "source": []
  },
  {
   "attachments": {},
   "cell_type": "markdown",
   "metadata": {},
   "source": [
    "## 关于deque"
   ]
  },
  {
   "cell_type": "code",
   "execution_count": 35,
   "metadata": {},
   "outputs": [],
   "source": [
    "from collections import deque"
   ]
  },
  {
   "cell_type": "code",
   "execution_count": 36,
   "metadata": {},
   "outputs": [],
   "source": [
    "a = deque(maxlen=10)"
   ]
  },
  {
   "cell_type": "code",
   "execution_count": 84,
   "metadata": {},
   "outputs": [],
   "source": [
    "a.append(5)"
   ]
  },
  {
   "cell_type": "code",
   "execution_count": 91,
   "metadata": {},
   "outputs": [],
   "source": [
    "import numpy as np"
   ]
  },
  {
   "cell_type": "code",
   "execution_count": 92,
   "metadata": {},
   "outputs": [
    {
     "data": {
      "text/plain": [
       "4.1"
      ]
     },
     "execution_count": 92,
     "metadata": {},
     "output_type": "execute_result"
    }
   ],
   "source": [
    "np.mean(a)"
   ]
  },
  {
   "cell_type": "code",
   "execution_count": 88,
   "metadata": {},
   "outputs": [],
   "source": [
    "test = {'a':123}"
   ]
  },
  {
   "cell_type": "code",
   "execution_count": 89,
   "metadata": {},
   "outputs": [],
   "source": [
    "\n",
    "test.update({'b':22})"
   ]
  },
  {
   "cell_type": "code",
   "execution_count": 90,
   "metadata": {},
   "outputs": [
    {
     "data": {
      "text/plain": [
       "{'a': 123, 'b': 22}"
      ]
     },
     "execution_count": 90,
     "metadata": {},
     "output_type": "execute_result"
    }
   ],
   "source": [
    "test"
   ]
  },
  {
   "cell_type": "code",
   "execution_count": 95,
   "metadata": {},
   "outputs": [],
   "source": [
    "import pandas as pd"
   ]
  },
  {
   "cell_type": "code",
   "execution_count": 96,
   "metadata": {},
   "outputs": [],
   "source": [
    "aa = pd.Series([1,2,3,4,5])"
   ]
  },
  {
   "cell_type": "code",
   "execution_count": 98,
   "metadata": {},
   "outputs": [
    {
     "data": {
      "text/plain": [
       "0    NaN\n",
       "1    1.0\n",
       "2    2.0\n",
       "3    3.0\n",
       "4    4.0\n",
       "dtype: float64"
      ]
     },
     "execution_count": 98,
     "metadata": {},
     "output_type": "execute_result"
    }
   ],
   "source": [
    "aa.shift(1)"
   ]
  },
  {
   "cell_type": "code",
   "execution_count": 99,
   "metadata": {},
   "outputs": [],
   "source": [
    "def test():\n",
    "    yield 1\n",
    "    yield 2"
   ]
  },
  {
   "cell_type": "code",
   "execution_count": 101,
   "metadata": {},
   "outputs": [],
   "source": [
    "a = test()"
   ]
  },
  {
   "cell_type": "code",
   "execution_count": 105,
   "metadata": {},
   "outputs": [
    {
     "ename": "StopIteration",
     "evalue": "",
     "output_type": "error",
     "traceback": [
      "\u001b[0;31m---------------------------------------------------------------------------\u001b[0m",
      "\u001b[0;31mStopIteration\u001b[0m                             Traceback (most recent call last)",
      "\u001b[0;32m/var/folders/31/rx49cg9n64z7rn2vk4yd8d740000gn/T/ipykernel_83950/3969821381.py\u001b[0m in \u001b[0;36m<module>\u001b[0;34m\u001b[0m\n\u001b[0;32m----> 1\u001b[0;31m \u001b[0mnext\u001b[0m\u001b[0;34m(\u001b[0m\u001b[0ma\u001b[0m\u001b[0;34m)\u001b[0m\u001b[0;34m\u001b[0m\u001b[0;34m\u001b[0m\u001b[0m\n\u001b[0m",
      "\u001b[0;31mStopIteration\u001b[0m: "
     ]
    }
   ],
   "source": [
    "\n",
    "next(a)"
   ]
  },
  {
   "cell_type": "code",
   "execution_count": 147,
   "metadata": {},
   "outputs": [],
   "source": [
    "a = iter([1,2,3,4])"
   ]
  },
  {
   "cell_type": "code",
   "execution_count": 148,
   "metadata": {},
   "outputs": [],
   "source": [
    "def getta():\n",
    "    for i,x in enumerate(a):\n",
    "        yield(x)"
   ]
  },
  {
   "cell_type": "code",
   "execution_count": 152,
   "metadata": {},
   "outputs": [
    {
     "data": {
      "text/plain": [
       "4"
      ]
     },
     "execution_count": 152,
     "metadata": {},
     "output_type": "execute_result"
    }
   ],
   "source": [
    "next(getta())"
   ]
  },
  {
   "cell_type": "code",
   "execution_count": 122,
   "metadata": {},
   "outputs": [
    {
     "data": {
      "text/plain": [
       "<generator object getta at 0x7f7df13106d0>"
      ]
     },
     "execution_count": 122,
     "metadata": {},
     "output_type": "execute_result"
    }
   ],
   "source": []
  },
  {
   "cell_type": "code",
   "execution_count": 110,
   "metadata": {},
   "outputs": [],
   "source": [
    "class fetch(object):\n",
    "    def __init__(self,lst):\n",
    "        self.a = lst\n",
    "    def __iter__(self):\n",
    "        for i, x in enumerate(self.a):\n",
    "            yield x"
   ]
  },
  {
   "cell_type": "code",
   "execution_count": 111,
   "metadata": {},
   "outputs": [],
   "source": [
    "aaa = fetch([1,2,3,4])"
   ]
  },
  {
   "cell_type": "code",
   "execution_count": 114,
   "metadata": {},
   "outputs": [
    {
     "data": {
      "text/plain": [
       "<generator object fetch.__iter__ at 0x7f7df12f0580>"
      ]
     },
     "execution_count": 114,
     "metadata": {},
     "output_type": "execute_result"
    }
   ],
   "source": [
    "aaa.__iter__()"
   ]
  },
  {
   "cell_type": "code",
   "execution_count": null,
   "metadata": {},
   "outputs": [],
   "source": []
  }
 ],
 "metadata": {
  "kernelspec": {
   "display_name": "base",
   "language": "python",
   "name": "python3"
  },
  "language_info": {
   "codemirror_mode": {
    "name": "ipython",
    "version": 3
   },
   "file_extension": ".py",
   "mimetype": "text/x-python",
   "name": "python",
   "nbconvert_exporter": "python",
   "pygments_lexer": "ipython3",
   "version": "3.9.13"
  },
  "orig_nbformat": 4,
  "vscode": {
   "interpreter": {
    "hash": "079e87f824df5e6b38a7b88e40dc2ff705d3b55588765c4fa4284c46fb940b2a"
   }
  }
 },
 "nbformat": 4,
 "nbformat_minor": 2
}
